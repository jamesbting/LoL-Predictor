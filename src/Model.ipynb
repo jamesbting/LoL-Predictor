{
  "cells": [
    {
      "cell_type": "code",
      "metadata": {
        "id": "4cy7hD4XlgUf",
        "colab_type": "code",
        "colab": {
          "base_uri": "https://localhost:8080/",
          "height": 51
        },
        "outputId": "2179c16e-ab4c-4a72-d8e2-2bb8e861d6f4"
      },
      "source": [
        "#setup the environment for the NN, depending on if it to be run on Google Colab, or a local device (with or without a CUDA-enable GPU)\n",
        "\n",
        "import os\n",
        "import csv\n",
        "import numpy as np\n",
        "from tqdm import tqdm\n",
        "import torch\n",
        "import torch.nn as nn\n",
        "import torch.nn.functional as F\n",
        "import torch.optim as optim\n",
        "import time\n",
        "#set up environment\n",
        "REBUILD_DATA = True # set to true to one once, then back to false unless you want to change something in your training data.\n",
        "GOOGLE_COLAB = False #set to true if running in google colab, false other wise\n",
        "\n",
        "if torch.cuda.is_available():\n",
        "    device = torch.device(\"cuda:0\")  # you can continue going on here, like cuda:1 cuda:2....etc. \n",
        "    print(\"Running on the GPU\")\n",
        "else:\n",
        "    device = torch.device(\"cpu\")\n",
        "    print(\"Running on the CPU\")\n",
        "\n",
        "if GOOGLE_COLAB:\n",
        "    from google.colab import drive\n",
        "    drive.mount('/content/gdrive')\n",
        "    training_data_filename = \"/content/gdrive/My Drive/Colab Notebooks/LoL-Predictor/datasets/training_data.csv\" #for running on google colab notebooks\n",
        "    model_log_filename = \"/content/gdrive/My Drive/Colab Notebooks/LoL-Predictor/logs/model.log\"\n",
        "    api_key_location = \"/content/gdrive/My Drive/Colab Notebooks/LoL-Predictor/api_key.txt\"\n",
        "    numpy_training_data = \"/content/gdrive/My Drive/Colab Notebooks/LoL-Predictor/datasets/training_data.npy\"\n",
        "else:\n",
        "    training_data_filename = \"C:\\\\Users\\\\James Ting\\\\OneDrive - McGill University\\\\Personal\\\\Personal Projects\\\\LoL-Predictor\\\\datasets\\\\training_data.csv\"\n",
        "    model_log_filename = \"C:\\\\Users\\\\James Ting\\\\OneDrive - McGill University\\\\Personal\\\\Personal Projects\\\\LoL-Predictor\\\\logs\\\\model.log\"\n",
        "    api_key_location = 'C:\\\\Users\\\\James Ting\\\\OneDrive - McGill University\\\\Personal\\\\Personal Projects\\\\LoL-Predictor\\\\api_key.txt'\n",
        "    numpy_training_data = \"C:\\\\Users\\\\James Ting\\\\OneDrive - McGill University\\\\Personal\\\\Personal Projects\\\\LoL-Predictor\\\\datasets\\\\training_data.npy\"\n",
        "\n",
        "f = open(api_key_location,'r')\n",
        "api_key = f.readline()\n",
        "f.close()\n",
        "\n",
        "region = 'na1'\n",
        "\n"
      ],
      "execution_count": 1,
      "outputs": [
        {
          "output_type": "stream",
          "name": "stdout",
          "text": "Running on the CPU\n"
        }
      ]
    },
    {
      "cell_type": "code",
      "metadata": {
        "id": "SBCn0RUBlgUn",
        "colab_type": "code",
        "colab": {
          "base_uri": "https://localhost:8080/",
          "height": 187
        },
        "outputId": "ccb71bea-0c23-406a-d1bf-b6f088cde3fd",
        "tags": [
          "outputPrepend"
        ]
      },
      "source": [
        "\n",
        "class DataSetReader():\n",
        "    LABELS = {'blue_win':0,\n",
        "              'red_win':1}\n",
        "    training_data = []\n",
        "    blue_win_count = 0\n",
        "    red_win_count = 0\n",
        "    training_data_location = training_data_filename\n",
        "    exclude_columns = (0, 23, 25, 26, 29, 98, 100, 101, 104, 173, 175, 176, \n",
        "                       179, 248, 250, 251, 254, 323, 325, 326, 329, 398, 400, \n",
        "                       401, 404, 473, 475, 476, 479, 548, 550, 551, 554, 623, \n",
        "                       625, 626, 629, 698, 700, 701, 704)\n",
        "\n",
        "\n",
        "    def read_training_data(self):\n",
        "      with open(self.training_data_location,'r') as f:\n",
        "        next(f) #skip the line with the column names\n",
        "        for row in f:\n",
        "          matchData = self.read_and_exclude_row(row,self.exclude_columns)\n",
        "          result = None\n",
        "          if(matchData[-1] == 1): #red win, blue loos\n",
        "            result = np.eye(2)[1] #[1,0]\n",
        "            self.blue_win_count += 1\n",
        "          elif (matchData[-1] == 0): #red loss, blue win\n",
        "            result = np.eye(2)[0]\n",
        "            self.red_win_count += 1\n",
        "          else:\n",
        "            raise TypeError\n",
        "          self.training_data.append([np.array(matchData[:-2]),result])\n",
        "      \n",
        "      \n",
        "      f.close()\n",
        "      np.random.shuffle(self.training_data)\n",
        "      np.save(numpy_training_data, self.training_data)\n",
        "      print('Blue Win Count:',self.blue_win_count)\n",
        "      print('Red Win Count:', self.red_win_count)\n",
        "          \n",
        "          \n",
        "\n",
        "    def read_and_exclude_row(self,row,exclude_column_indices):\n",
        "        row_list = row.split(',')\n",
        "        cleaned_row = []\n",
        "        append = cleaned_row.append\n",
        "        for index,value in enumerate(row_list):\n",
        "            if index not in exclude_column_indices:\n",
        "              if value == 'FALSE' or value == 'False':\n",
        "                append(0)\n",
        "              elif value == 'TRUE' or value == 'True':\n",
        "                append(1)\n",
        "              else:\n",
        "                append(float(value))\n",
        "                  \n",
        "               \n",
        "        return cleaned_row\n",
        "\n",
        "if REBUILD_DATA:\n",
        "  data_reader = DataSetReader()\n",
        "  data_reader.read_training_data()"
      ],
      "execution_count": 2,
      "outputs": [
        {
          "output_type": "stream",
          "name": "stdout",
          "text": "Blue Win Count: 1332\nRed Win Count: 1291\n"
        }
      ]
    },
    {
      "cell_type": "code",
      "execution_count": null,
      "metadata": {},
      "outputs": [],
      "source": []
    }
  ],
  "metadata": {
    "orig_nbformat": 2,
    "colab": {
      "name": "Model.ipynb",
      "provenance": [],
      "collapsed_sections": []
    },
    "kernelspec": {
      "name": "python36864bitf498ff391bd141efa82a8b19ebf9c273",
      "display_name": "Python 3.6.8 64-bit"
    }
  },
  "nbformat": 4,
  "nbformat_minor": 0
}