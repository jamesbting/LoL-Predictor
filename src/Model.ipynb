{
 "cells": [
  {
   "cell_type": "code",
   "execution_count": null,
   "metadata": {},
   "outputs": [],
   "source": [
    "#setup the environment for the NN, depending on if it to be run on Google Colab, or a local device (with or without a CUDA-enable GPU)\n",
    "\n",
    "import os\n",
    "import cv2\n",
    "import numpy as np\n",
    "from tqdm import tqdm\n",
    "import torch\n",
    "import torch.nn as nn\n",
    "import torch.nn.functional as F\n",
    "import torch.optim as optim\n",
    "import time\n",
    "from DataPuller import PlayerDataPuller, MatchDataPuller,ChampionMasteryDataPuller\n",
    "\n",
    "REBUILD_DATA = False # set to true to one once, then back to false unless you want to change something in your training data.\n",
    "GOOGLE_COLAB = True #set to true if running in google colab, false other wise\n",
    "\n",
    "if torch.cuda.is_available():\n",
    "    device = torch.device(\"cuda:0\")  # you can continue going on here, like cuda:1 cuda:2....etc. \n",
    "    print(\"Running on the GPU\")\n",
    "else:\n",
    "    device = torch.device(\"cpu\")\n",
    "    print(\"Running on the CPU\")\n",
    "\n",
    "if GOOGLE_COLAB:\n",
    "    from google.colab import drive\n",
    "    drive.mount('/content/gdrive')\n",
    "    training_data_filename = \"/content/drive/My Drive/Colab Notebooks/learn_pytorch/training_data.npy\" #for running on google colab notebooks\n",
    "    model_log_filename = \"/content/model.log\"\n",
    "    api_key_location = \"/content/api_key.txt\"\n",
    "else:\n",
    "    training_data_filename = \"training_data.npy\"\n",
    "    model_log_filename = \"model.log\"\n",
    "    api_key_location = \"api_key.txt\"\n",
    "\n",
    "f = open(api_key_location)\n",
    "api_key = f.readline()\n",
    "f.close()\n",
    "\n",
    "region = 'na1'\n",
    "\n",
    "#define some useful maps, that will help turn strings into numerical values\n",
    "position_map = {\n",
    "    \"TOP\": 1,\n",
    "    \"JUNGLE\": 2,\n",
    "    \"MID\": 3,\n",
    "    \"ADC\": 4,\n",
    "    \"SUPPORT\":5\n",
    "}\n",
    "\n"
   ]
  },
  {
   "cell_type": "code",
   "execution_count": null,
   "metadata": {},
   "outputs": [],
   "source": [
    "\n"
   ]
  }
 ],
 "metadata": {
  "language_info": {
   "codemirror_mode": {
    "name": "ipython",
    "version": 3
   },
   "file_extension": ".py",
   "mimetype": "text/x-python",
   "name": "python",
   "nbconvert_exporter": "python",
   "pygments_lexer": "ipython3",
   "version": 3
  },
  "orig_nbformat": 2
 },
 "nbformat": 4,
 "nbformat_minor": 2
}